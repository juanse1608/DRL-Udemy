{
 "cells": [
  {
   "cell_type": "markdown",
   "metadata": {
    "toc": true
   },
   "source": [
    "<h1>Table of Contents<span class=\"tocSkip\"></span></h1>\n",
    "<div class=\"toc\"><ul class=\"toc-item\"><li><span><a href=\"#Functions\" data-toc-modified-id=\"Functions-1\"><span class=\"toc-item-num\">1&nbsp;&nbsp;</span>Functions</a></span></li><li><span><a href=\"#Car-Pole-Example\" data-toc-modified-id=\"Car-Pole-Example-2\"><span class=\"toc-item-num\">2&nbsp;&nbsp;</span>Car Pole Example</a></span><ul class=\"toc-item\"><li><span><a href=\"#Pure-Randomness\" data-toc-modified-id=\"Pure-Randomness-2.1\"><span class=\"toc-item-num\">2.1&nbsp;&nbsp;</span>Pure Randomness</a></span></li><li><span><a href=\"#Pole-Velocity-Error\" data-toc-modified-id=\"Pole-Velocity-Error-2.2\"><span class=\"toc-item-num\">2.2&nbsp;&nbsp;</span>Pole Velocity Error</a></span></li></ul></li></ul></div>"
   ]
  },
  {
   "cell_type": "markdown",
   "metadata": {},
   "source": [
    "# Car Pole Example\n",
    "\n",
    "The main idea of this notebook is to interact with the `car_pole` from [Open AI Gym](https://gym.openai.com/) and treat different algorithms for this problem."
   ]
  },
  {
   "cell_type": "code",
   "execution_count": 2,
   "metadata": {
    "ExecuteTime": {
     "end_time": "2020-03-26T19:27:28.881947Z",
     "start_time": "2020-03-26T19:27:28.839056Z"
    },
    "code_folding": []
   },
   "outputs": [],
   "source": [
    "#Loading the required libreries\n",
    "import gym\n",
    "import numpy as np\n",
    "import xgboost\n",
    "import itertools\n",
    "import math\n",
    "import pandas as pd\n",
    "import io\n",
    "import base64\n",
    "import os\n",
    "\n",
    "from sklearn.neural_network import MLPClassifier\n",
    "from sklearn.model_selection import train_test_split\n",
    "from sklearn import metrics\n",
    "from sklearn.model_selection import cross_val_score, StratifiedKFold\n",
    "from gym import wrappers\n",
    "from IPython.display import HTML"
   ]
  },
  {
   "cell_type": "markdown",
   "metadata": {},
   "source": [
    "## Functions \n",
    "\n",
    "This section has all the function that I will use in the notebook."
   ]
  },
  {
   "cell_type": "code",
   "execution_count": 3,
   "metadata": {
    "ExecuteTime": {
     "end_time": "2020-03-26T19:27:38.583021Z",
     "start_time": "2020-03-26T19:27:38.562159Z"
    }
   },
   "outputs": [],
   "source": [
    "#Genera un expand_grid para hacer validacion cruzada\n",
    "def expand_grid(*itrs):\n",
    "   product = list(itertools.product(*itrs))\n",
    "   return pd.DataFrame({'Var{}'.format(i+1):[x[i] for x in product] for i in range(len(itrs))})"
   ]
  },
  {
   "cell_type": "markdown",
   "metadata": {},
   "source": [
    "## Car Pole Example\n",
    "\n",
    "This section covers the `car_pole` example."
   ]
  },
  {
   "cell_type": "code",
   "execution_count": 4,
   "metadata": {
    "ExecuteTime": {
     "end_time": "2020-03-26T19:27:40.597865Z",
     "start_time": "2020-03-26T19:27:40.509083Z"
    }
   },
   "outputs": [],
   "source": [
    "#My envorinement\n",
    "game = 'Car Pole'\n",
    "my_env = gym.make('CartPole-v0')\n",
    "my_env = wrappers.Monitor(my_env, '../Gym Videos/' + game, force=True)"
   ]
  },
  {
   "cell_type": "code",
   "execution_count": 22,
   "metadata": {
    "ExecuteTime": {
     "end_time": "2020-03-26T16:51:18.882802Z",
     "start_time": "2020-03-26T16:51:18.394085Z"
    },
    "scrolled": true
   },
   "outputs": [
    {
     "data": {
      "text/plain": [
       "array([ 0.00537611,  0.0208571 , -0.04964598,  0.01920917])"
      ]
     },
     "execution_count": 22,
     "metadata": {},
     "output_type": "execute_result"
    }
   ],
   "source": [
    "#Reset the game, the car in this case\n",
    "my_env.reset()"
   ]
  },
  {
   "cell_type": "markdown",
   "metadata": {},
   "source": [
    "### Pure Randomness\n",
    "\n",
    "Here we do 1000 iterations and average the result just picking an action between 0 and 1 randomly."
   ]
  },
  {
   "cell_type": "code",
   "execution_count": 30,
   "metadata": {
    "ExecuteTime": {
     "end_time": "2020-03-26T16:54:39.110604Z",
     "start_time": "2020-03-26T16:54:39.045840Z"
    }
   },
   "outputs": [
    {
     "name": "stdout",
     "output_type": "stream",
     "text": [
      "AVERAGE OF STEPS: 21.6\n",
      "STD OF STEPS: 8.88\n"
     ]
    }
   ],
   "source": [
    "#Exercise: Determine how many steps, on average, are taken, when\n",
    "#actions are randomly sampled\n",
    "steps_array = []\n",
    "for i in range(10):\n",
    "    my_env.reset()\n",
    "    done = False\n",
    "    steps = 0\n",
    "    while not done:\n",
    "#         my_env.render()\n",
    "        obs, rew, done, _ = my_env.step(action=my_env.action_space.sample())\n",
    "        steps += 1\n",
    "    steps_array.append(steps)\n",
    "my_env.close()\n",
    "\n",
    "print('AVERAGE OF STEPS:', np.mean(steps_array))\n",
    "print('STD OF STEPS:', np.round(np.std(steps_array), 2))"
   ]
  },
  {
   "cell_type": "markdown",
   "metadata": {},
   "source": [
    "### Pole Velocity Error\n",
    "\n",
    "This section pick an action based on the error function $E = p^2$ where $p$ is the pole velocity. I define the error in that way since we want a low pole velocity. Again, we do 1000 iterations an average the results."
   ]
  },
  {
   "cell_type": "code",
   "execution_count": 37,
   "metadata": {
    "ExecuteTime": {
     "end_time": "2020-03-26T17:28:38.627072Z",
     "start_time": "2020-03-26T17:28:38.608245Z"
    }
   },
   "outputs": [],
   "source": [
    "#Define an error function using the pole velocity as the unique parameter to penalize the model\n",
    "def error_function(obs):\n",
    "    pos, vel, angle, pole_vel = obs\n",
    "    error = (pole_vel**2)\n",
    "    return error"
   ]
  },
  {
   "cell_type": "code",
   "execution_count": 9,
   "metadata": {
    "ExecuteTime": {
     "end_time": "2020-03-26T15:10:33.415798Z",
     "start_time": "2020-03-26T15:10:31.286635Z"
    },
    "scrolled": true
   },
   "outputs": [
    {
     "name": "stdout",
     "output_type": "stream",
     "text": [
      "AVERAGE OF STEPS: 157.64\n",
      "STD OF STEPS: 21.66\n"
     ]
    }
   ],
   "source": [
    "#Exercise: Determine how many steps, on average, are taken, when\n",
    "#actions are randomly sampled\n",
    "steps_array = []\n",
    "for i in range(1000):\n",
    "    my_env.reset()\n",
    "    action = my_env.action_space.sample()\n",
    "    previous_error = -math.inf\n",
    "    done = False\n",
    "    steps = 0\n",
    "    while not done:\n",
    "#         my_env.render()\n",
    "        obs, rew, done, _ = my_env.step(action=action)\n",
    "        steps += 1\n",
    "        new_error = error_function(obs)\n",
    "        if new_error < previous_error:\n",
    "            previous_error = new_error\n",
    "            pass\n",
    "        else:\n",
    "            previous_error = new_error\n",
    "            action = abs(action-1)\n",
    "            \n",
    "    steps_array.append(steps)\n",
    "# my_env.close()\n",
    "print('AVERAGE OF STEPS:', np.round(np.mean(steps_array), 2))\n",
    "print('STD OF STEPS:', np.round(np.std(steps_array), 2))"
   ]
  },
  {
   "cell_type": "markdown",
   "metadata": {},
   "source": [
    "Using this error function is clear that the number of steps is greater (much greater) that the randomness algorithm in average. Now, how can we improve the new record? \n",
    "\n",
    "As we can see in the video, what happens is that the car arrives at one the corners and die. So, my idea is to use the `position`  in a new error function."
   ]
  },
  {
   "cell_type": "code",
   "execution_count": 58,
   "metadata": {
    "ExecuteTime": {
     "end_time": "2020-03-26T19:38:39.178947Z",
     "start_time": "2020-03-26T19:38:39.172136Z"
    }
   },
   "outputs": [],
   "source": [
    "#Define an error function using the pole velocity as the unique parameter to penalize the model\n",
    "def error_function(obs):\n",
    "    pos, vel, angle, pole_vel = obs\n",
    "    error = ((pos*pole_vel)**2)\n",
    "    return error"
   ]
  },
  {
   "cell_type": "code",
   "execution_count": 63,
   "metadata": {
    "ExecuteTime": {
     "end_time": "2020-03-26T19:39:07.648253Z",
     "start_time": "2020-03-26T19:39:04.858130Z"
    }
   },
   "outputs": [
    {
     "name": "stdout",
     "output_type": "stream",
     "text": [
      "AVERAGE OF STEPS: 162.86\n",
      "STD OF STEPS: 24.92\n"
     ]
    }
   ],
   "source": [
    "#Exercise: Determine how many steps, on average, are taken, when\n",
    "#actions are randomly sampled\n",
    "steps_array = []\n",
    "for i in range(1000):\n",
    "    my_env.reset()\n",
    "    action = my_env.action_space.sample()\n",
    "    previous_error = -math.inf\n",
    "    done = False\n",
    "    steps = 0\n",
    "    while not done:\n",
    "#         my_env.render()\n",
    "        obs, rew, done, _ = my_env.step(action=action)\n",
    "        steps += 1\n",
    "        new_error = error_function(obs)\n",
    "        if new_error < previous_error:\n",
    "            previous_error = new_error\n",
    "            pass\n",
    "        else:\n",
    "            previous_error = new_error\n",
    "            action = abs(action-1)\n",
    "            \n",
    "    steps_array.append(steps)\n",
    "# my_env.close()\n",
    "print('AVERAGE OF STEPS:', np.round(np.mean(steps_array), 2))\n",
    "print('STD OF STEPS:', np.round(np.std(steps_array), 2))"
   ]
  },
  {
   "cell_type": "code",
   "execution_count": 7,
   "metadata": {
    "ExecuteTime": {
     "end_time": "2020-03-26T19:28:50.959269Z",
     "start_time": "2020-03-26T19:28:50.942072Z"
    }
   },
   "outputs": [
    {
     "data": {
      "text/html": [
       "\n",
       "    <video width=\"360\" height=\"auto\" alt=\"test\" controls><source src=\"data:video/mp4;base64,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\" type=\"video/mp4\" /></video>"
      ],
      "text/plain": [
       "<IPython.core.display.HTML object>"
      ]
     },
     "execution_count": 7,
     "metadata": {},
     "output_type": "execute_result"
    }
   ],
   "source": [
    "#See the videos in the cell of jupyter\n",
    "mp4_files = os.listdir('../Gym Videos/' + game)\n",
    "mp4_files = [f for f in mp4_files if f.endswith('mp4')]\n",
    "\n",
    "#PICK ONE THE VIDEOS\n",
    "f = mp4_files[1]\n",
    "#Example of Video\n",
    "video = io.open('../Gym Videos/' + game + '/' + f, 'r+b').read()\n",
    "encoded = base64.b64encode(video)\n",
    "HTML(data='''\n",
    "    <video width=\"360\" height=\"auto\" alt=\"test\" controls><source src=\"data:video/mp4;base64,{0}\" type=\"video/mp4\" /></video>'''\n",
    ".format(encoded.decode('ascii')))"
   ]
  },
  {
   "cell_type": "code",
   "execution_count": null,
   "metadata": {},
   "outputs": [],
   "source": []
  }
 ],
 "metadata": {
  "kernelspec": {
   "display_name": "Python 3",
   "language": "python",
   "name": "python3"
  },
  "language_info": {
   "codemirror_mode": {
    "name": "ipython",
    "version": 3
   },
   "file_extension": ".py",
   "mimetype": "text/x-python",
   "name": "python",
   "nbconvert_exporter": "python",
   "pygments_lexer": "ipython3",
   "version": "3.7.6"
  },
  "toc": {
   "base_numbering": 1,
   "nav_menu": {},
   "number_sections": true,
   "sideBar": true,
   "skip_h1_title": true,
   "title_cell": "Table of Contents",
   "title_sidebar": "Contents",
   "toc_cell": true,
   "toc_position": {
    "height": "calc(100% - 180px)",
    "left": "10px",
    "top": "150px",
    "width": "200px"
   },
   "toc_section_display": true,
   "toc_window_display": true
  }
 },
 "nbformat": 4,
 "nbformat_minor": 4
}
