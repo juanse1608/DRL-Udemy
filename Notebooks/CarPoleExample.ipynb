{
 "cells": [
  {
   "cell_type": "markdown",
   "metadata": {
    "toc": true
   },
   "source": [
    "<h1>Table of Contents<span class=\"tocSkip\"></span></h1>\n",
    "<div class=\"toc\"><ul class=\"toc-item\"><li><span><a href=\"#Functions\" data-toc-modified-id=\"Functions-1\"><span class=\"toc-item-num\">1&nbsp;&nbsp;</span>Functions</a></span></li><li><span><a href=\"#Car-Pole-Example\" data-toc-modified-id=\"Car-Pole-Example-2\"><span class=\"toc-item-num\">2&nbsp;&nbsp;</span>Car Pole Example</a></span><ul class=\"toc-item\"><li><span><a href=\"#Pure-Randomness\" data-toc-modified-id=\"Pure-Randomness-2.1\"><span class=\"toc-item-num\">2.1&nbsp;&nbsp;</span>Pure Randomness</a></span></li><li><span><a href=\"#Pole-Velocity-Error\" data-toc-modified-id=\"Pole-Velocity-Error-2.2\"><span class=\"toc-item-num\">2.2&nbsp;&nbsp;</span>Pole Velocity Error</a></span></li></ul></li></ul></div>"
   ]
  },
  {
   "cell_type": "markdown",
   "metadata": {},
   "source": [
    "# Car Pole Example\n",
    "\n",
    "The main idea of this notebook is to interact with the `car_pole` from [Open AI Gym](https://gym.openai.com/) and treat different algorithms for this problem."
   ]
  },
  {
   "cell_type": "code",
   "execution_count": 12,
   "metadata": {
    "ExecuteTime": {
     "end_time": "2020-03-26T15:16:28.494400Z",
     "start_time": "2020-03-26T15:16:28.483863Z"
    },
    "code_folding": []
   },
   "outputs": [],
   "source": [
    "#Loading the required libreries\n",
    "import gym\n",
    "import numpy as np\n",
    "import xgboost\n",
    "import itertools\n",
    "import math\n",
    "import pandas as pd\n",
    "from sklearn.neural_network import MLPClassifier\n",
    "from sklearn.model_selection import train_test_split\n",
    "from sklearn import metrics\n",
    "from sklearn.model_selection import cross_val_score, StratifiedKFold\n",
    "from gym import wrappers\n",
    "\n",
    "import io\n",
    "import base64\n",
    "from IPython.display import HTML"
   ]
  },
  {
   "cell_type": "markdown",
   "metadata": {},
   "source": [
    "## Functions \n",
    "\n",
    "This section has all the function that I will use in the notebook."
   ]
  },
  {
   "cell_type": "code",
   "execution_count": 2,
   "metadata": {
    "ExecuteTime": {
     "end_time": "2020-03-26T15:08:05.028180Z",
     "start_time": "2020-03-26T15:08:05.014023Z"
    }
   },
   "outputs": [],
   "source": [
    "#Genera un expand_grid para hacer validacion cruzada\n",
    "def expand_grid(*itrs):\n",
    "   product = list(itertools.product(*itrs))\n",
    "   return pd.DataFrame({'Var{}'.format(i+1):[x[i] for x in product] for i in range(len(itrs))})"
   ]
  },
  {
   "cell_type": "markdown",
   "metadata": {},
   "source": [
    "## Car Pole Example\n",
    "\n",
    "This section covers the `car_pole` example."
   ]
  },
  {
   "cell_type": "code",
   "execution_count": 26,
   "metadata": {
    "ExecuteTime": {
     "end_time": "2020-03-26T16:52:15.434804Z",
     "start_time": "2020-03-26T16:52:15.403797Z"
    }
   },
   "outputs": [],
   "source": [
    "#My envorinement\n",
    "game = 'Car Pole'\n",
    "my_env = gym.make('CartPole-v0')\n",
    "my_env = wrappers.Monitor(my_env, '../Gym Videos/' + game, force=True)"
   ]
  },
  {
   "cell_type": "code",
   "execution_count": 22,
   "metadata": {
    "ExecuteTime": {
     "end_time": "2020-03-26T16:51:18.882802Z",
     "start_time": "2020-03-26T16:51:18.394085Z"
    },
    "scrolled": true
   },
   "outputs": [
    {
     "data": {
      "text/plain": [
       "array([ 0.00537611,  0.0208571 , -0.04964598,  0.01920917])"
      ]
     },
     "execution_count": 22,
     "metadata": {},
     "output_type": "execute_result"
    }
   ],
   "source": [
    "#Reset the game, the car in this case\n",
    "my_env.reset()"
   ]
  },
  {
   "cell_type": "markdown",
   "metadata": {},
   "source": [
    "### Pure Randomness\n",
    "\n",
    "Here we do 1000 iterations and average the result just picking an action between 0 and 1 randomly."
   ]
  },
  {
   "cell_type": "code",
   "execution_count": 30,
   "metadata": {
    "ExecuteTime": {
     "end_time": "2020-03-26T16:54:39.110604Z",
     "start_time": "2020-03-26T16:54:39.045840Z"
    }
   },
   "outputs": [
    {
     "name": "stdout",
     "output_type": "stream",
     "text": [
      "AVERAGE OF STEPS: 21.6\n",
      "STD OF STEPS: 8.88\n"
     ]
    }
   ],
   "source": [
    "#Exercise: Determine how many steps, on average, are taken, when\n",
    "#actions are randomly sampled\n",
    "steps_array = []\n",
    "for i in range(10):\n",
    "    my_env.reset()\n",
    "    done = False\n",
    "    steps = 0\n",
    "    while not done:\n",
    "#         my_env.render()\n",
    "        obs, rew, done, _ = my_env.step(action=my_env.action_space.sample())\n",
    "        steps += 1\n",
    "    steps_array.append(steps)\n",
    "my_env.close()\n",
    "\n",
    "print('AVERAGE OF STEPS:', np.mean(steps_array))\n",
    "print('STD OF STEPS:', np.round(np.std(steps_array), 2))"
   ]
  },
  {
   "cell_type": "code",
   "execution_count": 35,
   "metadata": {
    "ExecuteTime": {
     "end_time": "2020-03-26T16:57:46.797258Z",
     "start_time": "2020-03-26T16:57:46.749663Z"
    }
   },
   "outputs": [
    {
     "data": {
      "text/html": [
       "\n",
       "    <video width=\"360\" height=\"auto\" alt=\"test\" controls><source src=\"data:video/mp4;base64,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\" type=\"video/mp4\" /></video>"
      ],
      "text/plain": [
       "<IPython.core.display.HTML object>"
      ]
     },
     "execution_count": 35,
     "metadata": {},
     "output_type": "execute_result"
    }
   ],
   "source": [
    "video = io.open('../Gym Videos/' + game + '/' + 'openaigym.video.7.2712.video000000.mp4', 'r+b').read()\n",
    "encoded = base64.b64encode(video)\n",
    "HTML(data='''\n",
    "    <video width=\"360\" height=\"auto\" alt=\"test\" controls><source src=\"data:video/mp4;base64,{0}\" type=\"video/mp4\" /></video>'''\n",
    ".format(encoded.decode('ascii')))"
   ]
  },
  {
   "cell_type": "markdown",
   "metadata": {},
   "source": [
    "### Pole Velocity Error\n",
    "\n",
    "This section pick an action based on the error function $E = p^2$ where $p$ is the pole velocity. I define the error in that way since we want a low pole velocity. Again, we do 1000 iterations an average the results."
   ]
  },
  {
   "cell_type": "code",
   "execution_count": 7,
   "metadata": {
    "ExecuteTime": {
     "end_time": "2020-03-26T15:09:44.988781Z",
     "start_time": "2020-03-26T15:09:44.984208Z"
    }
   },
   "outputs": [],
   "source": [
    "#Define an error function using the pole velocity as the unique parameter to penalize the model\n",
    "def error_function(obs):\n",
    "    pos, vel, angle, pole_vel = obs\n",
    "    error = (pole_vel**2)\n",
    "    return error"
   ]
  },
  {
   "cell_type": "code",
   "execution_count": 9,
   "metadata": {
    "ExecuteTime": {
     "end_time": "2020-03-26T15:10:33.415798Z",
     "start_time": "2020-03-26T15:10:31.286635Z"
    },
    "scrolled": true
   },
   "outputs": [
    {
     "name": "stdout",
     "output_type": "stream",
     "text": [
      "AVERAGE OF STEPS: 157.64\n",
      "STD OF STEPS: 21.66\n"
     ]
    }
   ],
   "source": [
    "#Exercise: Determine how many steps, on average, are taken, when\n",
    "#actions are randomly sampled\n",
    "steps_array = []\n",
    "for i in range(1000):\n",
    "    my_env.reset()\n",
    "    action = my_env.action_space.sample()\n",
    "    previous_error = -math.inf\n",
    "    done = False\n",
    "    steps = 0\n",
    "    while not done:\n",
    "#         my_env.render()\n",
    "        obs, rew, done, _ = my_env.step(action=action)\n",
    "        steps += 1\n",
    "        new_error = error_function(obs)\n",
    "        if new_error < previous_error:\n",
    "            previous_error = new_error\n",
    "            pass\n",
    "        else:\n",
    "            previous_error = new_error\n",
    "            action = abs(action-1)\n",
    "            \n",
    "    steps_array.append(steps)\n",
    "# my_env.close()\n",
    "print('AVERAGE OF STEPS:', np.round(np.mean(steps_array), 2))\n",
    "print('STD OF STEPS:', np.round(np.std(steps_array), 2))"
   ]
  },
  {
   "cell_type": "markdown",
   "metadata": {},
   "source": [
    "Using this error function is clear that the number of steps is greater (much greater) that the randomness algorithm in average. Now, how can we improve the new record? \n",
    "\n",
    "As we can see in the video it cannot"
   ]
  },
  {
   "cell_type": "code",
   "execution_count": null,
   "metadata": {},
   "outputs": [],
   "source": []
  },
  {
   "cell_type": "code",
   "execution_count": null,
   "metadata": {},
   "outputs": [],
   "source": []
  },
  {
   "cell_type": "code",
   "execution_count": null,
   "metadata": {},
   "outputs": [],
   "source": []
  }
 ],
 "metadata": {
  "kernelspec": {
   "display_name": "Python 3",
   "language": "python",
   "name": "python3"
  },
  "language_info": {
   "codemirror_mode": {
    "name": "ipython",
    "version": 3
   },
   "file_extension": ".py",
   "mimetype": "text/x-python",
   "name": "python",
   "nbconvert_exporter": "python",
   "pygments_lexer": "ipython3",
   "version": "3.7.6"
  },
  "toc": {
   "base_numbering": 1,
   "nav_menu": {},
   "number_sections": true,
   "sideBar": true,
   "skip_h1_title": true,
   "title_cell": "Table of Contents",
   "title_sidebar": "Contents",
   "toc_cell": true,
   "toc_position": {
    "height": "calc(100% - 180px)",
    "left": "10px",
    "top": "150px",
    "width": "200px"
   },
   "toc_section_display": true,
   "toc_window_display": true
  }
 },
 "nbformat": 4,
 "nbformat_minor": 4
}
