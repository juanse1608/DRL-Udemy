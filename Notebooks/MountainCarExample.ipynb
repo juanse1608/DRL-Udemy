{
 "cells": [
  {
   "cell_type": "markdown",
   "metadata": {
    "toc": true
   },
   "source": [
    "<h1>Table of Contents<span class=\"tocSkip\"></span></h1>\n",
    "<div class=\"toc\"><ul class=\"toc-item\"><li><span><a href=\"#Functions\" data-toc-modified-id=\"Functions-1\"><span class=\"toc-item-num\">1&nbsp;&nbsp;</span>Functions</a></span></li><li><span><a href=\"#Car-Mountain-Example\" data-toc-modified-id=\"Car-Mountain-Example-2\"><span class=\"toc-item-num\">2&nbsp;&nbsp;</span>Car Mountain Example</a></span><ul class=\"toc-item\"><li><span><a href=\"#Pure-Randomness\" data-toc-modified-id=\"Pure-Randomness-2.1\"><span class=\"toc-item-num\">2.1&nbsp;&nbsp;</span>Pure Randomness</a></span></li><li><span><a href=\"#Intelligent-Symstem\" data-toc-modified-id=\"Intelligent-Symstem-2.2\"><span class=\"toc-item-num\">2.2&nbsp;&nbsp;</span>Intelligent Symstem</a></span></li><li><span><a href=\"#Random-Search\" data-toc-modified-id=\"Random-Search-2.3\"><span class=\"toc-item-num\">2.3&nbsp;&nbsp;</span>Random Search</a></span></li><li><span><a href=\"#Q-Learning:-Tabular-Method\" data-toc-modified-id=\"Q-Learning:-Tabular-Method-2.4\"><span class=\"toc-item-num\">2.4&nbsp;&nbsp;</span>Q-Learning: Tabular Method</a></span><ul class=\"toc-item\"><li><span><a href=\"#Limits-and-Bins\" data-toc-modified-id=\"Limits-and-Bins-2.4.1\"><span class=\"toc-item-num\">2.4.1&nbsp;&nbsp;</span>Limits and Bins</a></span></li><li><span><a href=\"#Functions\" data-toc-modified-id=\"Functions-2.4.2\"><span class=\"toc-item-num\">2.4.2&nbsp;&nbsp;</span>Functions</a></span></li></ul></li><li><span><a href=\"#RBF-NNs-&amp;-Q-Learning\" data-toc-modified-id=\"RBF-NNs-&amp;-Q-Learning-2.5\"><span class=\"toc-item-num\">2.5&nbsp;&nbsp;</span>RBF NNs &amp; Q-Learning</a></span><ul class=\"toc-item\"><li><span><a href=\"#Functions\" data-toc-modified-id=\"Functions-2.5.1\"><span class=\"toc-item-num\">2.5.1&nbsp;&nbsp;</span>Functions</a></span></li></ul></li><li><span><a href=\"#NNs-&amp;-Q-Learning\" data-toc-modified-id=\"NNs-&amp;-Q-Learning-2.6\"><span class=\"toc-item-num\">2.6&nbsp;&nbsp;</span>NNs &amp; Q-Learning</a></span><ul class=\"toc-item\"><li><span><a href=\"#Functions\" data-toc-modified-id=\"Functions-2.6.1\"><span class=\"toc-item-num\">2.6.1&nbsp;&nbsp;</span>Functions</a></span></li></ul></li><li><span><a href=\"#N-Steps-Method:-RBF-NNs-&amp;-Q-Learning\" data-toc-modified-id=\"N-Steps-Method:-RBF-NNs-&amp;-Q-Learning-2.7\"><span class=\"toc-item-num\">2.7&nbsp;&nbsp;</span>N-Steps Method: RBF NNs &amp; Q-Learning</a></span><ul class=\"toc-item\"><li><span><a href=\"#Functions\" data-toc-modified-id=\"Functions-2.7.1\"><span class=\"toc-item-num\">2.7.1&nbsp;&nbsp;</span>Functions</a></span></li><li><span><a href=\"#Iterations-and-Learning\" data-toc-modified-id=\"Iterations-and-Learning-2.7.2\"><span class=\"toc-item-num\">2.7.2&nbsp;&nbsp;</span>Iterations and Learning</a></span></li></ul></li></ul></li></ul></div>"
   ]
  },
  {
   "cell_type": "markdown",
   "metadata": {},
   "source": [
    "# Car Mountain Example\n",
    "\n",
    "The main idea of this notebook is to interact with the `car_mountain` from [Open AI Gym](https://gym.openai.com/) and treat different algorithms for this problem."
   ]
  },
  {
   "cell_type": "code",
   "execution_count": 25,
   "metadata": {
    "ExecuteTime": {
     "end_time": "2020-04-09T15:31:49.190657Z",
     "start_time": "2020-04-09T15:31:49.183665Z"
    },
    "code_folding": []
   },
   "outputs": [],
   "source": [
    "#Loading the required libreries\n",
    "import gym\n",
    "import numpy as np\n",
    "import itertools\n",
    "import math\n",
    "import pandas as pd\n",
    "import random\n",
    "import tensorflow as tf\n",
    "import io\n",
    "import re\n",
    "import base64\n",
    "import os\n",
    "import matplotlib.pyplot as plt\n",
    "import theano\n",
    "import theano.tensor as tensor\n",
    "from itertools import combinations_with_replacement, permutations\n",
    "\n",
    "\n",
    "from tensorflow.keras.initializers import RandomUniform, Initializer, Constant\n",
    "from tensorflow.keras.layers import Layer, Dense, Dropout\n",
    "from tensorflow.keras import Model, Sequential\n",
    "from tensorflow.keras.optimizers import SGD \n",
    "from gym import wrappers\n",
    "from IPython.display import HTML\n",
    "from sklearn.preprocessing import StandardScaler\n",
    "from sklearn.kernel_approximation import RBFSampler\n",
    "from sklearn.linear_model import SGDRegressor\n",
    "from sklearn.pipeline import FeatureUnion\n",
    "from datetime import datetime\n",
    "from mpl_toolkits.mplot3d import Axes3D"
   ]
  },
  {
   "cell_type": "markdown",
   "metadata": {},
   "source": [
    "## Functions\n",
    "\n",
    "This section has all the function that I will use in the notebook."
   ]
  },
  {
   "cell_type": "code",
   "execution_count": 2,
   "metadata": {
    "ExecuteTime": {
     "end_time": "2020-04-09T14:59:57.540545Z",
     "start_time": "2020-04-09T14:59:57.530940Z"
    }
   },
   "outputs": [],
   "source": [
    "#Genera un expand_grid para hacer validacion cruzada\n",
    "def expand_grid(*itrs):\n",
    "   product = list(itertools.product(*itrs))\n",
    "   return pd.DataFrame({'Var{}'.format(i+1):[x[i] for x in product] for i in range(len(itrs))})"
   ]
  },
  {
   "cell_type": "code",
   "execution_count": 3,
   "metadata": {
    "ExecuteTime": {
     "end_time": "2020-04-09T14:59:57.551865Z",
     "start_time": "2020-04-09T14:59:57.543039Z"
    }
   },
   "outputs": [],
   "source": [
    "def plot_running_avg(total_rewards):\n",
    "    n = len(total_rewards)\n",
    "    running_avg = []\n",
    "    for idx in range(1,n):\n",
    "        running_avg.append(total_rewards[max(0,idx-100):idx].mean())\n",
    "    plt.plot(running_avg)\n",
    "    plt.title('RUNNING AVERAGE')\n",
    "    plt.show()"
   ]
  },
  {
   "cell_type": "markdown",
   "metadata": {},
   "source": [
    "## Car Mountain Example\n",
    "\n",
    "This section covers the `car_mountain` example."
   ]
  },
  {
   "cell_type": "code",
   "execution_count": 4,
   "metadata": {
    "ExecuteTime": {
     "end_time": "2020-04-09T14:59:57.570753Z",
     "start_time": "2020-04-09T14:59:57.553997Z"
    }
   },
   "outputs": [],
   "source": [
    "#My envorinement\n",
    "game = 'Car Mountain'\n",
    "my_env = gym.make('MountainCar-v0')"
   ]
  },
  {
   "cell_type": "code",
   "execution_count": 5,
   "metadata": {
    "ExecuteTime": {
     "end_time": "2020-04-09T14:59:57.580548Z",
     "start_time": "2020-04-09T14:59:57.572622Z"
    }
   },
   "outputs": [],
   "source": [
    "#Reset the game, the car in this case\n",
    "obs = my_env.reset()"
   ]
  },
  {
   "cell_type": "code",
   "execution_count": 6,
   "metadata": {
    "ExecuteTime": {
     "end_time": "2020-04-09T14:59:57.599078Z",
     "start_time": "2020-04-09T14:59:57.584123Z"
    }
   },
   "outputs": [
    {
     "data": {
      "text/plain": [
       "Discrete(3)"
      ]
     },
     "execution_count": 6,
     "metadata": {},
     "output_type": "execute_result"
    }
   ],
   "source": [
    "#See the action space: we can take 3 actions, nothing, left, right\n",
    "my_env.action_space"
   ]
  },
  {
   "cell_type": "markdown",
   "metadata": {},
   "source": [
    "### Pure Randomness\n",
    "\n",
    "Here we do 1000 iterations and average the result just picking an action between 0 and 1 randomly. As we can see, choicing random actions it is impossible to win the game (always reach the maximum steps allowed)."
   ]
  },
  {
   "cell_type": "code",
   "execution_count": 10,
   "metadata": {
    "ExecuteTime": {
     "end_time": "2020-03-26T16:22:16.313275Z",
     "start_time": "2020-03-26T16:13:38.836732Z"
    }
   },
   "outputs": [
    {
     "name": "stdout",
     "output_type": "stream",
     "text": [
      "AVERAGE OF STEPS: 200.0\n",
      "STD OF STEPS: 0.0\n"
     ]
    }
   ],
   "source": [
    "#Exercise: Determine how many steps, on average, are taken, when\n",
    "#actions are randomly sampled\n",
    "steps_array = []\n",
    "for i in range(1000):\n",
    "    my_env.reset()\n",
    "    done = False\n",
    "    steps = 0\n",
    "    while not done:\n",
    "        my_env.render()\n",
    "        obs, rew, done, _ = my_env.step(action=my_env.action_space.sample())\n",
    "        steps += 1\n",
    "    steps_array.append(steps)\n",
    "my_env.close()\n",
    "print('AVERAGE OF STEPS:', np.mean(steps_array))\n",
    "print('STD OF STEPS:', np.round(np.std(steps_array), 2))"
   ]
  },
  {
   "cell_type": "markdown",
   "metadata": {},
   "source": [
    "### Intelligent Symstem\n",
    "\n",
    "This section uses an inteligent system in order to determine waht action to take. It's simple:\n",
    "\n",
    "1. If the car has positive velocity and before had postive velocity: move it to the right.\n",
    "2. If the car has positive velocity and before had negative velocity: move it to the right.\n",
    "3. If the car has negative velocity and before had postive velocity: move it to the left.\n",
    "4. If the car has negative velocity and before had negative velocity: move it to the left.\n",
    "\n",
    "This will increase the `momentum`.\n",
    "\n",
    "In order to minimize the number of steps, the `init_action` is taken as a function of the initial postition that takes values in $[-0.4,0.6]$.\n",
    "\n",
    "If `init_pos` > 0.475, then move the car to the left (let it fall). Otherwise, move it to the right following the same idea."
   ]
  },
  {
   "cell_type": "code",
   "execution_count": 273,
   "metadata": {
    "ExecuteTime": {
     "end_time": "2020-04-03T22:35:22.528629Z",
     "start_time": "2020-04-03T22:35:22.520076Z"
    }
   },
   "outputs": [],
   "source": [
    "### Define an error function using the pole velocity as the unique parameter to penalize the model\n",
    "def assing_action(obs, pre_obs, pre_action):\n",
    "    pos, vel = obs\n",
    "    pre_pos, pre_vel = pre_obs\n",
    "    if (pre_vel > 0) and (vel <= 0):\n",
    "        return 0\n",
    "    elif (pre_vel > 0) and (vel > 0):\n",
    "        return 2\n",
    "    elif (pre_vel <= 0) and (vel >= 0):\n",
    "        return 2\n",
    "    else:\n",
    "        return 0"
   ]
  },
  {
   "cell_type": "code",
   "execution_count": 274,
   "metadata": {
    "ExecuteTime": {
     "end_time": "2020-04-03T22:35:45.786040Z",
     "start_time": "2020-04-03T22:35:22.963749Z"
    },
    "scrolled": false
   },
   "outputs": [
    {
     "name": "stdout",
     "output_type": "stream",
     "text": [
      "AVERAGE OF STEPS: 107.98 WITH INIT ACTION CUSTOMIZED\n",
      "STD OF STEPS: 13.98 WITH INIT ACTION CUSTOMIZED\n",
      "MINIMUM OF STEPS: 86 WITH INIT ACTION CUSTOMIZED\n",
      "MAXIMUM OF STEPS: 125 WITH INIT ACTION CUSTOMIZED\n",
      "\n",
      "\n",
      "AVERAGE OF STEPS: 114.72 WITH INIT ACTION: 1\n",
      "STD OF STEPS: 25.82 WITH INIT ACTION: 1\n",
      "MINIMUM OF STEPS: 86 WITH INIT ACTION: 1\n",
      "MAXIMUM OF STEPS: 195 WITH INIT ACTION: 1\n",
      "\n",
      "\n",
      "AVERAGE OF STEPS: 119.42 WITH INIT ACTION: 2\n",
      "STD OF STEPS: 3.71 WITH INIT ACTION: 2\n",
      "MINIMUM OF STEPS: 113 WITH INIT ACTION: 2\n",
      "MAXIMUM OF STEPS: 125 WITH INIT ACTION: 2\n",
      "\n",
      "\n",
      "AVERAGE OF STEPS: 128.14 WITH INIT ACTION: 0\n",
      "STD OF STEPS: 32.92 WITH INIT ACTION: 0\n",
      "MINIMUM OF STEPS: 86 WITH INIT ACTION: 0\n",
      "MAXIMUM OF STEPS: 189 WITH INIT ACTION: 0\n"
     ]
    }
   ],
   "source": [
    "#Exercise: Determine how many steps, on average, are taken, when\n",
    "#actions are randomly sampled\n",
    "steps_array = []\n",
    "for i in range(1000):\n",
    "    obs = my_env.reset()\n",
    "    init_action = 2\n",
    "    if obs[0] > -0.475:\n",
    "        init_action = 0\n",
    "    action = init_action\n",
    "    done = False\n",
    "    steps = 0\n",
    "    while not done:\n",
    "#         my_env.render()\n",
    "        new_obs, rew, done, _ = my_env.step(action=action)\n",
    "        steps += 1\n",
    "        action = assing_action(obs=new_obs, pre_obs=obs, pre_action=action)\n",
    "        \n",
    "    steps_array.append(steps)\n",
    "# my_env.close()\n",
    "print('AVERAGE OF STEPS:', np.round(np.mean(steps_array), 2), 'WITH INIT ACTION CUSTOMIZED')\n",
    "print('STD OF STEPS:', np.round(np.std(steps_array), 2), 'WITH INIT ACTION CUSTOMIZED')\n",
    "print('MINIMUM OF STEPS:', np.round(np.min(steps_array), 2), 'WITH INIT ACTION CUSTOMIZED')\n",
    "print('MAXIMUM OF STEPS:', np.round(np.max(steps_array), 2), 'WITH INIT ACTION CUSTOMIZED')\n",
    "\n",
    "print('\\n')\n",
    "\n",
    "steps_array = []\n",
    "for i in range(1000):\n",
    "    obs = my_env.reset()\n",
    "    init_action = 1\n",
    "    action = init_action\n",
    "    done = False\n",
    "    steps = 0\n",
    "    while not done:\n",
    "#         my_env.render()\n",
    "        new_obs, rew, done, _ = my_env.step(action=action)\n",
    "        steps += 1\n",
    "        action = assing_action(obs=new_obs, pre_obs=obs, pre_action=action)\n",
    "        \n",
    "    steps_array.append(steps)\n",
    "# my_env.close()\n",
    "print('AVERAGE OF STEPS:', np.round(np.mean(steps_array), 2), 'WITH INIT ACTION:', init_action)\n",
    "print('STD OF STEPS:', np.round(np.std(steps_array), 2), 'WITH INIT ACTION:', init_action)\n",
    "print('MINIMUM OF STEPS:', np.round(np.min(steps_array), 2), 'WITH INIT ACTION:', init_action)\n",
    "print('MAXIMUM OF STEPS:', np.round(np.max(steps_array), 2), 'WITH INIT ACTION:', init_action)\n",
    "\n",
    "print('\\n')\n",
    "\n",
    "steps_array = []\n",
    "for i in range(1000):\n",
    "    obs = my_env.reset()\n",
    "    init_action = 2\n",
    "    action = init_action\n",
    "    done = False\n",
    "    steps = 0\n",
    "    while not done:\n",
    "#         my_env.render()\n",
    "        new_obs, rew, done, _ = my_env.step(action=action)\n",
    "        steps += 1\n",
    "        action = assing_action(obs=new_obs, pre_obs=obs, pre_action=action)\n",
    "        \n",
    "    steps_array.append(steps)\n",
    "# my_env.close()\n",
    "print('AVERAGE OF STEPS:', np.round(np.mean(steps_array), 2), 'WITH INIT ACTION:', init_action)\n",
    "print('STD OF STEPS:', np.round(np.std(steps_array), 2), 'WITH INIT ACTION:', init_action)\n",
    "print('MINIMUM OF STEPS:', np.round(np.min(steps_array), 2), 'WITH INIT ACTION:', init_action)\n",
    "print('MAXIMUM OF STEPS:', np.round(np.max(steps_array), 2), 'WITH INIT ACTION:', init_action)\n",
    "\n",
    "print('\\n')\n",
    "\n",
    "\n",
    "steps_array = []\n",
    "for i in range(1000):\n",
    "    obs = my_env.reset()\n",
    "    init_action = 0\n",
    "    action = init_action\n",
    "    done = False\n",
    "    steps = 0\n",
    "    while not done:\n",
    "#         my_env.render()\n",
    "        new_obs, rew, done, _ = my_env.step(action=action)\n",
    "        steps += 1\n",
    "        action = assing_action(obs=new_obs, pre_obs=obs, pre_action=action)\n",
    "        \n",
    "    steps_array.append(steps)\n",
    "# my_env.close()\n",
    "print('AVERAGE OF STEPS:', np.round(np.mean(steps_array), 2), 'WITH INIT ACTION:', init_action)\n",
    "print('STD OF STEPS:', np.round(np.std(steps_array), 2), 'WITH INIT ACTION:', init_action)\n",
    "print('MINIMUM OF STEPS:', np.round(np.min(steps_array), 2), 'WITH INIT ACTION:', init_action)\n",
    "print('MAXIMUM OF STEPS:', np.round(np.max(steps_array), 2), 'WITH INIT ACTION:', init_action)"
   ]
  },
  {
   "cell_type": "markdown",
   "metadata": {},
   "source": [
    "Thorugh visualization it was clear that it is no need to climb to the left corner, now we use the `position` parameter: if the car reach some negative position, we just push it to the right."
   ]
  },
  {
   "cell_type": "code",
   "execution_count": 275,
   "metadata": {
    "ExecuteTime": {
     "end_time": "2020-04-03T22:35:45.803294Z",
     "start_time": "2020-04-03T22:35:45.787817Z"
    }
   },
   "outputs": [],
   "source": [
    "### Define an error function using the pole velocity as the unique parameter to penalize the model\n",
    "def assing_action_alt(obs, pre_obs, pre_action):\n",
    "    pos, vel = obs\n",
    "    pre_pos, pre_vel = pre_obs\n",
    "    if (pre_vel > 0) and (vel <= 0):\n",
    "        return 0\n",
    "    elif (pre_vel > 0) and (vel > 0):\n",
    "        return 2\n",
    "    elif (pre_vel <= 0) and (vel >= 0):\n",
    "        return 2\n",
    "    else:\n",
    "        if pos < -0.9:\n",
    "            return 2\n",
    "        return 0"
   ]
  },
  {
   "cell_type": "code",
   "execution_count": 304,
   "metadata": {
    "ExecuteTime": {
     "end_time": "2020-04-03T22:57:38.859976Z",
     "start_time": "2020-04-03T22:57:34.762912Z"
    },
    "scrolled": true
   },
   "outputs": [
    {
     "name": "stdout",
     "output_type": "stream",
     "text": [
      "AVERAGE OF STEPS: 104.7 WITH INIT ACTION CUSTOMIZED\n",
      "STD OF STEPS: 12.76 WITH INIT ACTION CUSTOMIZED\n",
      "MINIMUM OF STEPS: 83 WITH INIT ACTION CUSTOMIZED\n",
      "MAXIMUM OF STEPS: 116 WITH INIT ACTION CUSTOMIZED\n"
     ]
    }
   ],
   "source": [
    "#Exercise: Determine how many steps, on average, are taken, when\n",
    "#actions are randomly sampled\n",
    "steps_array = []\n",
    "for i in range(1000):\n",
    "    obs = my_env.reset()\n",
    "    init_action = 2\n",
    "    if obs[0] > -0.475:\n",
    "        init_action = 0\n",
    "    action = init_action\n",
    "    done = False\n",
    "    steps = 0\n",
    "    \n",
    "    while not done:\n",
    "#         my_env.render()\n",
    "        new_obs, rew, done, _ = my_env.step(action=action)\n",
    "        steps += 1\n",
    "        action = assing_action_alt(obs=new_obs, pre_obs=obs, pre_action=action)\n",
    "        \n",
    "    steps_array.append(steps)\n",
    "# my_env.close()\n",
    "best_avg_reward = np.mean(steps_array)\n",
    "print('AVERAGE OF STEPS:', np.round(np.mean(steps_array), 2), 'WITH INIT ACTION CUSTOMIZED')\n",
    "print('STD OF STEPS:', np.round(np.std(steps_array), 2), 'WITH INIT ACTION CUSTOMIZED')\n",
    "print('MINIMUM OF STEPS:', np.round(np.min(steps_array), 2), 'WITH INIT ACTION CUSTOMIZED')\n",
    "print('MAXIMUM OF STEPS:', np.round(np.max(steps_array), 2), 'WITH INIT ACTION CUSTOMIZED')"
   ]
  },
  {
   "cell_type": "markdown",
   "metadata": {},
   "source": [
    "Another thing to do, is hyperparameter tuning for thw two parameters: `init_pos` (in `init_action` decision) and `pos` (in `assign_action` function)."
   ]
  },
  {
   "cell_type": "markdown",
   "metadata": {},
   "source": [
    "### Random Search\n",
    "\n",
    "Now we will implement a random search for the weights of a linear model with the parameters of the car i.e.\n",
    "\n",
    "$$a = \\sigma(w_0 + w_1c_v + w_2c_p)$$\n",
    "\n",
    "In this example, we do not have bias $w_0$ i.e. $w_0=0$."
   ]
  },
  {
   "cell_type": "code",
   "execution_count": 15,
   "metadata": {
    "ExecuteTime": {
     "end_time": "2020-03-27T22:52:30.548674Z",
     "start_time": "2020-03-27T22:52:30.545093Z"
    }
   },
   "outputs": [],
   "source": [
    "def assign_action(obs, weights):\n",
    "    x, y = obs\n",
    "    \n",
    "    y = np.dot(obs, weights)\n",
    "    if y > 0:\n",
    "        return 2\n",
    "    return 0"
   ]
  },
  {
   "cell_type": "code",
   "execution_count": 17,
   "metadata": {
    "ExecuteTime": {
     "end_time": "2020-03-27T23:02:43.493053Z",
     "start_time": "2020-03-27T23:02:30.280599Z"
    }
   },
   "outputs": [],
   "source": [
    "#Vectors and values relevant for final analysis\n",
    "steps_best_sample = None\n",
    "steps_best_avg = math.inf\n",
    "step_avgs = []\n",
    "best_weights = None\n",
    "\n",
    "#init my_env\n",
    "obs = my_env.reset()\n",
    "\n",
    "for r_i in range(10):\n",
    "    \n",
    "    #Init random weights between [-1,1] for each one of the parameters of the models\n",
    "    random_weights = np.random.random(len(obs))*2 - 1 \n",
    "    #print(random_weights)\n",
    "    steps_reps = []\n",
    "    for i in range(100):\n",
    "        obs = my_env.reset()\n",
    "        done = False\n",
    "        steps = 0\n",
    "        while not done:\n",
    "            steps += 1\n",
    "            action = assign_action(obs, weights=random_weights)\n",
    "            obs, rew, done, _ = my_env.step(action=action)\n",
    "        steps_reps.append(steps)\n",
    "    \n",
    "    step_avgs.append(np.mean(steps_reps))\n",
    "    if np.mean(steps_reps) < steps_best_avg:\n",
    "        steps_best_avg = np.mean(steps_reps)\n",
    "        steps_best_sample = steps_reps\n",
    "        best_weights = random_weights\n",
    "    \n",
    "    if (r_i+1) % 50 == 0:\n",
    "        print('ITERATION NUMBER', r_i+1)"
   ]
  },
  {
   "cell_type": "code",
   "execution_count": 18,
   "metadata": {
    "ExecuteTime": {
     "end_time": "2020-03-27T23:02:43.509015Z",
     "start_time": "2020-03-27T23:02:43.495326Z"
    }
   },
   "outputs": [
    {
     "name": "stdout",
     "output_type": "stream",
     "text": [
      "BEST AVERAGE 200.0 WITH WEIGHTS [-0.90102733  0.16965663]\n"
     ]
    }
   ],
   "source": [
    "print('BEST AVERAGE', steps_best_avg, 'WITH WEIGHTS', best_weights)"
   ]
  },
  {
   "cell_type": "markdown",
   "metadata": {},
   "source": [
    "Wow! Random search for weights of linear model does not work very well, at least not as well as out intelligent system."
   ]
  },
  {
   "cell_type": "markdown",
   "metadata": {},
   "source": [
    "### Q-Learning: Tabular Method\n",
    "\n",
    "Let's implement the tabular method."
   ]
  },
  {
   "cell_type": "markdown",
   "metadata": {},
   "source": [
    "#### Limits and Bins\n",
    "\n",
    "Construction of the bins for each one of the parameters of the model. In particular, given that `pole_vel` and `car_vel` do not have intervals, we will iterate and calculate the `min` and `max`."
   ]
  },
  {
   "cell_type": "code",
   "execution_count": 7,
   "metadata": {
    "ExecuteTime": {
     "end_time": "2020-04-06T03:26:44.038441Z",
     "start_time": "2020-04-06T03:26:33.305088Z"
    }
   },
   "outputs": [],
   "source": [
    "min_pos, max_pos = [-1.2, 0.6]\n",
    "min_vel, max_vel = [-0.07, 0.07]\n",
    "\n",
    "#Exercise: Determine how many steps, on average, are taken, when\n",
    "#actions are randomly sampled\n",
    "vels = []\n",
    "pole_vels = []\n",
    "angles = []\n",
    "for i in range(1000):\n",
    "    my_env.reset()\n",
    "    done = False\n",
    "    steps = 0\n",
    "    while not done:\n",
    "        obs, rew, done, _ = my_env.step(action=my_env.action_space.sample())\n",
    "        steps += 1\n",
    "my_env.close()"
   ]
  },
  {
   "cell_type": "markdown",
   "metadata": {},
   "source": [
    "Now, we have the limit for our `box`."
   ]
  },
  {
   "cell_type": "code",
   "execution_count": 49,
   "metadata": {
    "ExecuteTime": {
     "end_time": "2020-04-06T04:22:07.858566Z",
     "start_time": "2020-04-06T04:22:07.849758Z"
    }
   },
   "outputs": [],
   "source": [
    "#Define the bins for each one of the parameters\n",
    "num_bins = 10\n",
    "pos_bins = np.linspace(min_pos, max_pos, num_bins)\n",
    "vel_bins = np.linspace(min_vel, max_vel, num_bins)\n",
    "\n",
    "#Creates a list with the bins of each parameters in the order that the parameters are presented\n",
    "obs_bins = [pos_bins, vel_bins]"
   ]
  },
  {
   "cell_type": "markdown",
   "metadata": {},
   "source": [
    "#### Functions\n",
    "\n",
    "Let's create some relevant classes for the __Tabular Method__."
   ]
  },
  {
   "cell_type": "code",
   "execution_count": 50,
   "metadata": {
    "ExecuteTime": {
     "end_time": "2020-04-06T04:22:08.637991Z",
     "start_time": "2020-04-06T04:22:08.619742Z"
    }
   },
   "outputs": [],
   "source": [
    "def construct_q_tab(env, number_of_bins, randomness=True):\n",
    "    n_obs = env.observation_space.shape[0]\n",
    "    n_obs_bins = (number_of_bins+1)**n_obs\n",
    "    n_actions = env.action_space.n\n",
    "    \n",
    "    q_tab = np.random.uniform(-1,1, size=(n_obs_bins, n_actions))\n",
    "    q_tab = pd.DataFrame(q_tab)\n",
    "    \n",
    "    str_l = list(range(0,number_of_bins+1))\n",
    "    combinations = set(list(combinations_with_replacement(str_l*n_obs, n_obs)))\n",
    "    combinations_join = ['-'.join([str(n) for n in c]) for c in combinations]\n",
    "    \n",
    "    q_tab['INDEX'] = combinations_join\n",
    "    \n",
    "    q_tab = q_tab.set_index('INDEX')\n",
    "    return q_tab\n",
    "\n",
    "def build_state(states):\n",
    "    states_str = '-'.join([str(int(s)) for s in states])\n",
    "    return states_str\n",
    "\n",
    "def to_bin(value, my_bin):\n",
    "    return np.digitize(value, my_bin)\n",
    "\n",
    "def transform_obs(obs, obs_bins=obs_bins):\n",
    "    if len(obs) != len(obs_bins):\n",
    "        return 'ERROR'\n",
    "    else:\n",
    "        obs_to_bins = []\n",
    "        for idx,_ in enumerate(obs):\n",
    "            obs_to_bins.append(to_bin(obs[idx], obs_bins[idx]))\n",
    "        return build_state(obs_to_bins)\n",
    "\n",
    "def predict(state, q_tab):\n",
    "    x = transform_obs(state)\n",
    "    return np.array(q_tab.loc[x])\n",
    "\n",
    "def update(state, a, g, q_tab, l_r=0.01):\n",
    "    x = transform_obs(state)\n",
    "    q_tab.loc[x, a] += l_r*(g - q_tab.loc[x, a])\n",
    "    \n",
    "def sample_action(env, state, eps, q_tab):\n",
    "    if np.random.random() < eps:\n",
    "        return env.action_space.sample()\n",
    "    else:\n",
    "        a_p = predict(state, q_tab)\n",
    "        return q_tab.columns[np.argmax(np.array(a_p))]"
   ]
  },
  {
   "cell_type": "code",
   "execution_count": 51,
   "metadata": {
    "ExecuteTime": {
     "end_time": "2020-04-06T04:22:09.101403Z",
     "start_time": "2020-04-06T04:22:09.090968Z"
    }
   },
   "outputs": [
    {
     "name": "stdout",
     "output_type": "stream",
     "text": [
      "SHAPE OF Q-TAB IS (121, 3) AND COLUMN NAMES ARE Index([0, 1, 2], dtype='object')\n"
     ]
    }
   ],
   "source": [
    "q_tab = construct_q_tab(env=my_env, number_of_bins=num_bins)\n",
    "q_tab.iloc[:,1] = -10e+5\n",
    "\n",
    "print('SHAPE OF Q-TAB IS', q_tab.shape, 'AND COLUMN NAMES ARE', q_tab.columns)"
   ]
  },
  {
   "cell_type": "code",
   "execution_count": 53,
   "metadata": {
    "ExecuteTime": {
     "end_time": "2020-04-06T04:22:17.108859Z",
     "start_time": "2020-04-06T04:22:17.101166Z"
    }
   },
   "outputs": [],
   "source": [
    "def play_game(env, q_tab, eps, gamma):\n",
    "    obs = env.reset()\n",
    "    done = False\n",
    "    steps = 0\n",
    "    total_reward = 0\n",
    "    pre_ac = None\n",
    "    \n",
    "    while not done:\n",
    "        ac = sample_action(env, state=obs, eps=eps, q_tab=q_tab)\n",
    "        pre_obs = obs.copy()\n",
    "        obs, rew, done, _ = my_env.step(action=ac)\n",
    "        total_reward += rew\n",
    "        \n",
    "        pre_pos, pre_vel = pre_obs\n",
    "        pos, vel = obs\n",
    "        \n",
    "        if (steps==199):\n",
    "            rew = -100\n",
    "            \n",
    "        \n",
    "        if done and (steps<199):\n",
    "            rew = 1000\n",
    "        \n",
    "        #Update the model\n",
    "        g = rew + gamma*np.max(predict(obs, q_tab))\n",
    "        update(state=pre_obs, a=ac, g=g, q_tab=q_tab)\n",
    "        \n",
    "        steps += 1\n",
    "        pre_ac = ac\n",
    "    return total_reward"
   ]
  },
  {
   "cell_type": "code",
   "execution_count": 54,
   "metadata": {
    "ExecuteTime": {
     "end_time": "2020-04-06T04:30:29.222687Z",
     "start_time": "2020-04-06T04:22:17.314370Z"
    },
    "collapsed": true
   },
   "outputs": [
    {
     "name": "stdout",
     "output_type": "stream",
     "text": [
      "100 ITERATION - -200.0 TOTAL REWARD\n",
      "200 ITERATION - -200.0 TOTAL REWARD\n",
      "300 ITERATION - -200.0 TOTAL REWARD\n",
      "400 ITERATION - -198.39 TOTAL REWARD\n",
      "500 ITERATION - -198.16 TOTAL REWARD\n",
      "600 ITERATION - -200.0 TOTAL REWARD\n",
      "700 ITERATION - -193.41 TOTAL REWARD\n",
      "800 ITERATION - -187.08 TOTAL REWARD\n",
      "900 ITERATION - -185.92 TOTAL REWARD\n",
      "1000 ITERATION - -173.35 TOTAL REWARD\n",
      "1100 ITERATION - -171.69 TOTAL REWARD\n",
      "1200 ITERATION - -170.16 TOTAL REWARD\n",
      "1300 ITERATION - -173.01 TOTAL REWARD\n",
      "1400 ITERATION - -178.13 TOTAL REWARD\n",
      "1500 ITERATION - -184.87 TOTAL REWARD\n",
      "1600 ITERATION - -173.76 TOTAL REWARD\n",
      "1700 ITERATION - -180.77 TOTAL REWARD\n",
      "1800 ITERATION - -176.7 TOTAL REWARD\n",
      "1900 ITERATION - -166.88 TOTAL REWARD\n",
      "2000 ITERATION - -172.68 TOTAL REWARD\n",
      "2100 ITERATION - -162.66 TOTAL REWARD\n",
      "2200 ITERATION - -163.14 TOTAL REWARD\n",
      "2300 ITERATION - -164.19 TOTAL REWARD\n",
      "2400 ITERATION - -176.29 TOTAL REWARD\n",
      "2500 ITERATION - -158.33 TOTAL REWARD\n"
     ]
    }
   ],
   "source": [
    "## ITERATE AND LEARN\n",
    "total_rewards = []\n",
    "gamma = 0.9999\n",
    "\n",
    "for i in range(2500):\n",
    "    eps = 1.0/np.sqrt(i+1)\n",
    "    total_reward = play_game(env=my_env, q_tab=q_tab, eps=eps, gamma=gamma)\n",
    "    total_rewards.append(total_reward)\n",
    "    if (i+1) % 100 == 0:\n",
    "        print(i+1, 'ITERATION -', np.mean(total_rewards[i-99:i+1]), 'TOTAL REWARD')"
   ]
  },
  {
   "cell_type": "code",
   "execution_count": 55,
   "metadata": {
    "ExecuteTime": {
     "end_time": "2020-04-06T04:30:32.173768Z",
     "start_time": "2020-04-06T04:30:31.856455Z"
    }
   },
   "outputs": [
    {
     "data": {
      "image/png": "[encoded data removed]",
      "text/plain": [
       "<Figure size 432x288 with 1 Axes>"
      ]
     },
     "metadata": {
      "needs_background": "light"
     },
     "output_type": "display_data"
    }
   ],
   "source": [
    "plot_running_avg(np.array(total_rewards))"
   ]
  },
  {
   "cell_type": "markdown",
   "metadata": {},
   "source": [
    "### RBF NNs & Q-Learning"
   ]
  },
  {
   "cell_type": "markdown",
   "metadata": {},
   "source": [
    "#### Functions"
   ]
  },
  {
   "cell_type": "code",
   "execution_count": 123,
   "metadata": {
    "ExecuteTime": {
     "end_time": "2020-04-10T03:20:04.898661Z",
     "start_time": "2020-04-10T03:20:04.881555Z"
    }
   },
   "outputs": [],
   "source": [
    "def sampler_observations(env, sample_size, standardize=True):\n",
    "    '''\n",
    "    Generates a sample of states of an environement or game\n",
    "    '''\n",
    "    sample = np.array([env.observation_space.sample() for idx in range(sample_size)])\n",
    "    if standardize:\n",
    "        scaler = StandardScaler()\n",
    "        scaled_sample = scaler.fit_transform(sample)\n",
    "        dic = {'SCALER': scaler, 'SAMPLE': sample, 'SCALED_SAMPLE': scaled_sample}\n",
    "    else:\n",
    "        dic = {'SCALER': scaler, 'SAMPLE': sample}\n",
    "    print('GENERATED DATA WITH SHAPE', sample.shape)\n",
    "    return dic"
   ]
  },
  {
   "cell_type": "code",
   "execution_count": 124,
   "metadata": {
    "ExecuteTime": {
     "end_time": "2020-04-10T03:20:05.471821Z",
     "start_time": "2020-04-10T03:20:05.454208Z"
    }
   },
   "outputs": [],
   "source": [
    "def rbf_featurizer(data, gammas, num_components):\n",
    "    '''\n",
    "    Generates a rbf featurizer for different gammas (variances) and fit data with it\n",
    "    '''\n",
    "    features = []\n",
    "    for idx, g in enumerate(gammas):\n",
    "        rbf_name = 'RBF-' + str(idx)\n",
    "        s = RBFSampler(gamma=g, n_components=num_components)\n",
    "        rbf = (rbf_name, s)\n",
    "        features.append(rbf)\n",
    "    featurizer = FeatureUnion(features)\n",
    "    t_features = featurizer.fit_transform(data)\n",
    "    dic = {'FEATURIZER': featurizer, 'TRANSFORM_FEATURES': t_features}\n",
    "    return dic"
   ]
  },
  {
   "cell_type": "code",
   "execution_count": 125,
   "metadata": {
    "ExecuteTime": {
     "end_time": "2020-04-10T03:20:12.905067Z",
     "start_time": "2020-04-10T03:20:12.880362Z"
    }
   },
   "outputs": [],
   "source": [
    "def init_models(env, featurizer, scaler, n_actions=None,l_r=0.01):\n",
    "    models = []\n",
    "    if n_actions==None:\n",
    "        n_actions = env.action_space.n\n",
    "    \n",
    "    for i in range(n_actions):\n",
    "        model = SGDRegressor(learning_rate=l_r)\n",
    "        state_scaled = scaler.transform([env.reset()])\n",
    "        state_feature = featurizer.transform(state_scaled)\n",
    "        model.partial_fit(state_feature, [0])\n",
    "        models.append(model)\n",
    "    return models\n",
    "\n",
    "def predict(state, featurizer, scaler, models):\n",
    "    state_scaled = scaler.transform([state])\n",
    "    state_feature = featurizer.transform(state_scaled)\n",
    "    #assert(len(state_feature.shape) == 2)\n",
    "    predictions = np.array([m.predict(state_feature)[0] for m in models])\n",
    "    return predictions\n",
    "\n",
    "def update(state, idx_a, g, featurizer, scaler, models):\n",
    "    state_scaled = scaler.transform([state])\n",
    "    state_feature = featurizer.transform(state_scaled)\n",
    "    #assert(len(state_feature.shape) == 2)\n",
    "    models[idx_a].partial_fit(state_feature, [g])\n",
    "    \n",
    "def sample_action(env, state, featurizer, scaler, models, eps, actions=None):\n",
    "    if sum(actions == None) != 0:\n",
    "        actions = np.array(list(range(0,env.action_space.n)))\n",
    "    if np.random.random() < eps:\n",
    "        idx = np.random.choice(len(actions), size=1)[0]\n",
    "        return [actions[idx], idx]\n",
    "    else:\n",
    "        predictions = predict(state, featurizer, scaler, models)\n",
    "        \n",
    "        return [actions[np.argmax(predictions)], np.argmax(predictions)]"
   ]
  },
  {
   "cell_type": "code",
   "execution_count": 126,
   "metadata": {
    "ExecuteTime": {
     "end_time": "2020-04-10T03:20:17.833306Z",
     "start_time": "2020-04-10T03:20:17.818579Z"
    }
   },
   "outputs": [],
   "source": [
    "def play_game(env, models, featurizer, scaler, eps, gamma, n_actions=None, actions=None, updt=True):\n",
    "    obs = env.reset()\n",
    "    done = False\n",
    "    steps = 0\n",
    "    total_reward = 0\n",
    "    pre_ac = None\n",
    "    \n",
    "    while not done:\n",
    "        ac, idx_ac = sample_action(env=env, state=obs, featurizer=featurizer, scaler=scaler,\n",
    "                                   models=models, eps=eps, actions=actions)\n",
    "        pre_obs = obs.copy()\n",
    "        obs, rew, done, _ = my_env.step(action=ac)\n",
    "        total_reward += rew\n",
    "        \n",
    "        \n",
    "        pre_pos, pre_vel = pre_obs\n",
    "        pos, vel = obs\n",
    "        \n",
    "        #Update the model\n",
    "        if updt:\n",
    "            g = rew + gamma*np.max(predict(state=obs, featurizer=featurizer, scaler=scaler, models=models))\n",
    "            update(state=pre_obs, idx_a=idx_ac, g=g, featurizer=featurizer, scaler=scaler, models=models)\n",
    "        \n",
    "        steps += 1\n",
    "        pre_ac = ac\n",
    "    return total_reward"
   ]
  },
  {
   "cell_type": "code",
   "execution_count": 129,
   "metadata": {
    "ExecuteTime": {
     "end_time": "2020-04-10T04:05:01.144374Z",
     "start_time": "2020-04-10T03:53:50.499247Z"
    }
   },
   "outputs": [
    {
     "name": "stdout",
     "output_type": "stream",
     "text": [
      "GENERATED DATA WITH SHAPE (50000, 2)\n",
      "READY TO LEARN---\n",
      "50 ITERATION - -200.0 50-MOVING AVG REWARD\n",
      "100 ITERATION - -196.02 50-MOVING AVG REWARD\n",
      "150 ITERATION - -150.92 50-MOVING AVG REWARD\n",
      "200 ITERATION - -138.9 50-MOVING AVG REWARD\n",
      "250 ITERATION - -123.52 50-MOVING AVG REWARD\n",
      "300 ITERATION - -129.62 50-MOVING AVG REWARD\n",
      "350 ITERATION - -124.72 50-MOVING AVG REWARD\n",
      "400 ITERATION - -127.64 50-MOVING AVG REWARD\n",
      "450 ITERATION - -122.56 50-MOVING AVG REWARD\n",
      "500 ITERATION - -122.58 50-MOVING AVG REWARD\n",
      "550 ITERATION - -119.2 50-MOVING AVG REWARD\n",
      "600 ITERATION - -117.56 50-MOVING AVG REWARD\n",
      "650 ITERATION - -117.46 50-MOVING AVG REWARD\n",
      "700 ITERATION - -114.08 50-MOVING AVG REWARD\n",
      "750 ITERATION - -115.36 50-MOVING AVG REWARD\n",
      "800 ITERATION - -113.56 50-MOVING AVG REWARD\n",
      "850 ITERATION - -113.76 50-MOVING AVG REWARD\n",
      "900 ITERATION - -111.76 50-MOVING AVG REWARD\n",
      "950 ITERATION - -111.4 50-MOVING AVG REWARD\n",
      "1000 ITERATION - -109.52 50-MOVING AVG REWARD\n",
      "1050 ITERATION - -109.68 50-MOVING AVG REWARD\n",
      "1100 ITERATION - -105.24 50-MOVING AVG REWARD\n"
     ]
    }
   ],
   "source": [
    "#ITERATE AND LEARN\n",
    "comparision_avg_reward = -109\n",
    "\n",
    "total_rewards = []\n",
    "l_r = 'invscaling'\n",
    "\n",
    "#GENERATE SAMPLES\n",
    "iterations = 10000\n",
    "size = 50000\n",
    "sample = sampler_observations(env=my_env, sample_size=size)\n",
    "actions = np.array([0,2])\n",
    "printer = 50\n",
    "\n",
    "sample_data = sample['SCALED_SAMPLE']\n",
    "scaler = sample['SCALER']\n",
    "featurization = rbf_featurizer(data=sample_data, gammas=[0.5, 0.4, 0.3, 0.2, 0.1, 0.05],\n",
    "                               num_components=75)\n",
    "featurizer = featurization['FEATURIZER']\n",
    "models = init_models(env=my_env, featurizer=featurizer, scaler=scaler, l_r=l_r, n_actions=len(actions))\n",
    "\n",
    "'''\n",
    "ITERATE AND LEARN USING RBF NN'S\n",
    "'''\n",
    "print('READY TO LEARN---')\n",
    "for i in range(iterations):\n",
    "    eps = 0.1*(0.9**(i+1))\n",
    "    gamma = 0.99\n",
    "    total_reward = play_game(env=my_env, models=models, featurizer=featurizer, scaler=scaler,\n",
    "                             eps=eps, gamma=gamma, n_actions=len(actions), actions=actions)\n",
    "    total_rewards.append(total_reward)\n",
    "    \n",
    "    if (i+1) % printer == 0:\n",
    "        print(i+1, 'ITERATION -', np.mean(total_rewards[i-(printer-1):i+1]),\n",
    "              str(printer) + '-MOVING AVG REWARD')\n",
    "        if np.mean(total_rewards[i-(printer-1):i+1]) > (comparision_avg_reward):\n",
    "            break"
   ]
  },
  {
   "cell_type": "code",
   "execution_count": 131,
   "metadata": {
    "ExecuteTime": {
     "end_time": "2020-04-10T04:06:20.446943Z",
     "start_time": "2020-04-10T04:06:05.523350Z"
    }
   },
   "outputs": [
    {
     "name": "stdout",
     "output_type": "stream",
     "text": [
      "READY TO CHECK---\n",
      "ITERATION 25\n",
      "ITERATION 50\n",
      "ITERATION 75\n",
      "ITERATION 100\n",
      "RESULTS---\n",
      "AVERAGE OF REWARD: -108.67\n",
      "STD OF REWARD: 10.95\n",
      "MINIMUM OF REWARD: -116.0\n",
      "MAXIMUM OF REWARD: -83.0\n"
     ]
    }
   ],
   "source": [
    "#ITERATE AND CHECK\n",
    "total_rewards = []\n",
    "printer = 25\n",
    "eps = -1\n",
    "\n",
    "#GENERATE SAMPLES\n",
    "iterations = 100\n",
    "'''\n",
    "ITERATE AND CHECK USING RBF NN'S\n",
    "'''\n",
    "print('READY TO CHECK---')\n",
    "for i in range(iterations):\n",
    "    total_reward = play_game(env=my_env, models=models, featurizer=featurizer, scaler=scaler,\n",
    "                             eps=eps, gamma=gamma, n_actions=len(actions), actions=actions, updt=False)\n",
    "    total_rewards.append(total_reward)\n",
    "    \n",
    "    if (i+1) % printer == 0:\n",
    "        print('ITERATION', i+1)\n",
    "\n",
    "print('RESULTS---')\n",
    "print('AVERAGE OF REWARD:', np.round(np.mean(total_rewards), 2))\n",
    "print('STD OF REWARD:', np.round(np.std(total_rewards), 2))\n",
    "print('MINIMUM OF REWARD:', np.round(np.min(total_rewards), 2))\n",
    "print('MAXIMUM OF REWARD:', np.round(np.max(total_rewards), 2))"
   ]
  },
  {
   "cell_type": "markdown",
   "metadata": {},
   "source": [
    "Amazing results produced by our __RBF Neural Network__ with a pretty good avergare reward (compared with our best intelligent system)."
   ]
  },
  {
   "cell_type": "markdown",
   "metadata": {},
   "source": [
    "### NNs & Q-Learning\n",
    "\n",
    "In this section, I'll create a Neural Network a let that the it learn its own features instead of providing it the radial basis kernel. "
   ]
  },
  {
   "cell_type": "markdown",
   "metadata": {},
   "source": [
    "#### Functions"
   ]
  },
  {
   "cell_type": "code",
   "execution_count": 14,
   "metadata": {
    "ExecuteTime": {
     "end_time": "2020-04-09T15:30:08.624519Z",
     "start_time": "2020-04-09T15:30:08.617548Z"
    }
   },
   "outputs": [],
   "source": [
    "def sampler_observations(env, sample_size, standardize=True):\n",
    "    '''\n",
    "    Generates a sample of states of an environement or game\n",
    "    '''\n",
    "    sample = np.array([env.observation_space.sample() for idx in range(sample_size)])\n",
    "    if standardize:\n",
    "        scaler = StandardScaler()\n",
    "        scaled_sample = scaler.fit_transform(sample)\n",
    "        dic = {'SCALER': scaler, 'SAMPLE': sample, 'SCALED_SAMPLE': scaled_sample}\n",
    "    else:\n",
    "        dic = {'SCALER': scaler, 'SAMPLE': sample}\n",
    "    print('GENERATED DATA WITH SHAPE', sample.shape)\n",
    "    return dic"
   ]
  },
  {
   "cell_type": "code",
   "execution_count": 94,
   "metadata": {
    "ExecuteTime": {
     "end_time": "2020-04-09T23:10:57.079937Z",
     "start_time": "2020-04-09T23:10:57.063194Z"
    }
   },
   "outputs": [],
   "source": [
    "#We only modify our sgd_regressor class using Theano code \n",
    "class NN():\n",
    "    def __init__(self, input_shape, l_r=0.01, layers=[50, 100, 100, 50],\n",
    "                 drop_out=0.1):\n",
    "        self.l_r = l_r\n",
    "        self.step = 0\n",
    "        self.layers = layers\n",
    "        \n",
    "        self.sgd = SGD(lr=l_r, decay=0)\n",
    "        self.model = Sequential()\n",
    "        self.model.add(Dense(units=self.layers[0], input_shape=input_shape, activation='tanh',\n",
    "                             kernel_initializer='lecun_uniform'))\n",
    "        for idx in range(1,len(layers)):\n",
    "            self.model.add(Dense(self.layers[idx], activation='tanh'))\n",
    "            if drop_out:\n",
    "                self.model.add(Dropout(drop_out))\n",
    "        \n",
    "        self.model.add(Dense(1, activation='tanh'))\n",
    "        \n",
    "        self.model.compile(loss='mse', optimizer=self.sgd)\n",
    "        \n",
    "    def partial_fit(self, x, y):\n",
    "        mod_x = x\n",
    "        mod_y = y.reshape(y.shape[0],1)\n",
    "        self.model.train_on_batch(mod_x, mod_y)\n",
    "        self.step += 1\n",
    "        \n",
    "    def predict(self, x):\n",
    "        mod_x = x\n",
    "        return self.model.predict(mod_x)[0]\n",
    "\n",
    "def init_models(env, scaler, n_actions=None, l_r=0.01, layers=[50, 100, 100, 50], drop_out=0.1):\n",
    "    models = []\n",
    "    if n_actions==None:\n",
    "        n_actions = env.action_space.n\n",
    "    \n",
    "    for i in range(n_actions):\n",
    "        state_scaled = scaler.transform([env.reset()])\n",
    "        input_shape = state_scaled[0].shape\n",
    "        model = NN(l_r=l_r, input_shape=input_shape, layers=layers, drop_out=drop_out)\n",
    "        #model.partial_fit(scaled, [0])\n",
    "        models.append(model)\n",
    "    return models\n",
    "\n",
    "def predict(state, scaler, models):\n",
    "    state_scaled = scaler.transform([state])\n",
    "    #assert(len(state_feature.shape) == 2)\n",
    "    predictions = np.array([m.predict(state_scaled)[0] for m in models])\n",
    "    return predictions\n",
    "\n",
    "def update(state, idx_a, g, scaler, models):\n",
    "    state_scaled = scaler.transform([state])\n",
    "    #assert(len(state_feature.shape) == 2)\n",
    "    models[idx_a].partial_fit(state_scaled, np.array([g]))\n",
    "    \n",
    "def sample_action(env, state, scaler, models, eps, actions=None):\n",
    "    if sum(actions == None) != 0:\n",
    "        actions = np.array(list(range(0,env.action_space.n)))\n",
    "    if np.random.random() < eps:\n",
    "        idx = np.random.choice(len(actions), size=1)[0]\n",
    "        return [actions[idx], idx]\n",
    "    else:\n",
    "        predictions = predict(state, scaler, models)\n",
    "        \n",
    "        return [actions[np.argmax(predictions)], np.argmax(predictions)]"
   ]
  },
  {
   "cell_type": "code",
   "execution_count": 97,
   "metadata": {
    "ExecuteTime": {
     "end_time": "2020-04-09T23:48:39.225438Z",
     "start_time": "2020-04-09T23:48:39.208225Z"
    }
   },
   "outputs": [],
   "source": [
    "def play_game(env, models, scaler, eps, gamma, n_actions=None, actions=None, updt=True):\n",
    "    obs = env.reset()\n",
    "    done = False\n",
    "    steps = 0\n",
    "    total_reward = 0\n",
    "    pre_ac = None\n",
    "    while not done:\n",
    "        ac, idx_ac = sample_action(env=env, state=obs, scaler=scaler,\n",
    "                                   models=models, eps=eps, actions=actions)\n",
    "        pre_obs = obs.copy()\n",
    "        obs, rew, done, _ = my_env.step(action=ac)\n",
    "        total_reward += rew\n",
    "        \n",
    "        \n",
    "        pre_pos, pre_vel = pre_obs\n",
    "        pos, vel = obs\n",
    "        \n",
    "        #Update the model\n",
    "        if updt:\n",
    "            g = (rew + gamma*np.max(predict(state=obs, scaler=scaler, models=models)))\n",
    "            update(state=pre_obs, idx_a=idx_ac, g=g, scaler=scaler, models=models)\n",
    "        \n",
    "        steps += 1\n",
    "        pre_ac = ac\n",
    "    \n",
    "    \n",
    "    return total_reward"
   ]
  },
  {
   "cell_type": "code",
   "execution_count": 98,
   "metadata": {
    "ExecuteTime": {
     "end_time": "2020-04-10T00:40:55.799398Z",
     "start_time": "2020-04-09T23:48:40.084612Z"
    },
    "scrolled": true
   },
   "outputs": [
    {
     "name": "stdout",
     "output_type": "stream",
     "text": [
      "GENERATED DATA WITH SHAPE (50000, 2)\n",
      "READY TO LEARN---\n",
      "10 ITERATION - -200.0 10-MOVING AVG REWARD\n",
      "20 ITERATION - -200.0 10-MOVING AVG REWARD\n",
      "30 ITERATION - -200.0 10-MOVING AVG REWARD\n",
      "40 ITERATION - -200.0 10-MOVING AVG REWARD\n",
      "50 ITERATION - -200.0 10-MOVING AVG REWARD\n",
      "60 ITERATION - -200.0 10-MOVING AVG REWARD\n",
      "70 ITERATION - -200.0 10-MOVING AVG REWARD\n",
      "80 ITERATION - -200.0 10-MOVING AVG REWARD\n",
      "90 ITERATION - -200.0 10-MOVING AVG REWARD\n",
      "100 ITERATION - -200.0 10-MOVING AVG REWARD\n"
     ]
    }
   ],
   "source": [
    "#ITERATE AND LEARN\n",
    "comparision_avg_reward = -109\n",
    "\n",
    "total_rewards = []\n",
    "l_r = 0.01\n",
    "\n",
    "#GENERATE SAMPLES\n",
    "iterations = 100\n",
    "size = 50000\n",
    "sample = sampler_observations(env=my_env, sample_size=size)\n",
    "actions = np.array([0,2])\n",
    "printer = 50\n",
    "\n",
    "sample_data = sample['SCALED_SAMPLE']\n",
    "scaler = sample['SCALER']\n",
    "models = init_models(env=my_env, scaler=scaler, l_r=l_r, n_actions=len(actions),\n",
    "                     layers=[1000, 1000], drop_out=0.01)\n",
    "\n",
    "'''\n",
    "ITERATE AND LEARN USING RBF NN'S\n",
    "'''\n",
    "print('READY TO LEARN---')\n",
    "for i in range(iterations):\n",
    "    eps = 0.1*(0.9**(i+1))\n",
    "    gamma = 0.99\n",
    "    total_reward = play_game(env=my_env, models=models, scaler=scaler,\n",
    "                             eps=eps, gamma=gamma, n_actions=len(actions), actions=actions)\n",
    "    total_rewards.append(total_reward)\n",
    "    \n",
    "    if (i+1) % printer == 0:\n",
    "        print(i+1, 'ITERATION -', np.mean(total_rewards[i-(printer-1):i+1]),\n",
    "              str(printer) + '-MOVING AVG REWARD')\n",
    "        if np.mean(total_rewards[i-(printer-1):i+1]) > (comparision_avg_reward):\n",
    "            break"
   ]
  },
  {
   "cell_type": "code",
   "execution_count": null,
   "metadata": {
    "ExecuteTime": {
     "end_time": "2020-04-09T22:26:48.915055Z",
     "start_time": "2020-04-09T22:26:28.087Z"
    }
   },
   "outputs": [],
   "source": [
    "#ITERATE AND CHECK\n",
    "total_rewards = []\n",
    "printer = 25\n",
    "eps = -1\n",
    "\n",
    "#GENERATE SAMPLES\n",
    "iterations = 100\n",
    "'''\n",
    "ITERATE AND CHECK USING RBF NN'S\n",
    "'''\n",
    "print('READY TO CHECK---')\n",
    "for i in range(iterations):\n",
    "    total_reward = play_game(env=my_env, models=models, scaler=scaler,\n",
    "                             eps=eps, gamma=gamma, n_actions=len(actions), actions=actions, updt=False)\n",
    "    total_rewards.append(total_reward)\n",
    "    \n",
    "    if (i+1) % printer == 0:\n",
    "        print('ITERATION', i+1)\n",
    "\n",
    "print('RESULTS---')\n",
    "print('AVERAGE OF REWARD:', np.round(np.mean(total_rewards), 2))\n",
    "print('STD OF REWARD:', np.round(np.std(total_rewards), 2))\n",
    "print('MINIMUM OF REWARD:', np.round(np.min(total_rewards), 2))\n",
    "print('MAXIMUM OF REWARD:', np.round(np.max(total_rewards), 2))"
   ]
  },
  {
   "cell_type": "markdown",
   "metadata": {},
   "source": [
    "As I was expecting, the result are pretty bad, it is like the NN is suffering the __Catastrofic Frogetting__. "
   ]
  },
  {
   "cell_type": "markdown",
   "metadata": {},
   "source": [
    "### N-Steps Method: RBF NNs & Q-Learning"
   ]
  },
  {
   "cell_type": "markdown",
   "metadata": {},
   "source": [
    "#### Functions"
   ]
  },
  {
   "cell_type": "code",
   "execution_count": 174,
   "metadata": {
    "ExecuteTime": {
     "end_time": "2020-04-10T05:28:14.202175Z",
     "start_time": "2020-04-10T05:28:14.196932Z"
    }
   },
   "outputs": [],
   "source": [
    "def sampler_observations(env, sample_size, standardize=True):\n",
    "    '''\n",
    "    Generates a sample of states of an environement or game\n",
    "    '''\n",
    "    sample = np.array([env.observation_space.sample() for idx in range(sample_size)])\n",
    "    if standardize:\n",
    "        scaler = StandardScaler()\n",
    "        scaled_sample = scaler.fit_transform(sample)\n",
    "        dic = {'SCALER': scaler, 'SAMPLE': sample, 'SCALED_SAMPLE': scaled_sample}\n",
    "    else:\n",
    "        dic = {'SCALER': scaler, 'SAMPLE': sample}\n",
    "    print('GENERATED DATA WITH SHAPE', sample.shape)\n",
    "    return dic"
   ]
  },
  {
   "cell_type": "code",
   "execution_count": 175,
   "metadata": {
    "ExecuteTime": {
     "end_time": "2020-04-10T05:28:14.727567Z",
     "start_time": "2020-04-10T05:28:14.721230Z"
    }
   },
   "outputs": [],
   "source": [
    "def rbf_featurizer(data, gammas, num_components):\n",
    "    '''\n",
    "    Generates a rbf featurizer for different gammas (variances) and fit data with it\n",
    "    '''\n",
    "    features = []\n",
    "    for idx, g in enumerate(gammas):\n",
    "        rbf_name = 'RBF-' + str(idx)\n",
    "        s = RBFSampler(gamma=g, n_components=num_components)\n",
    "        rbf = (rbf_name, s)\n",
    "        features.append(rbf)\n",
    "    featurizer = FeatureUnion(features)\n",
    "    t_features = featurizer.fit_transform(data)\n",
    "    dic = {'FEATURIZER': featurizer, 'TRANSFORM_FEATURES': t_features}\n",
    "    return dic"
   ]
  },
  {
   "cell_type": "code",
   "execution_count": 229,
   "metadata": {
    "ExecuteTime": {
     "end_time": "2020-04-10T17:46:46.989507Z",
     "start_time": "2020-04-10T17:46:46.965007Z"
    }
   },
   "outputs": [],
   "source": [
    "# class sgd_regressor():\n",
    "#     def __init__(self, n_weights, l_r=0.01):\n",
    "#         self.weights = np.random.rand(n_weights)/np.power(n_weights, 0.5)\n",
    "#         self.l_r = l_r\n",
    "#         self.step = 0\n",
    "        \n",
    "    \n",
    "#     def partial_fit(self, x, y):\n",
    "#         estimated = x.dot(self.weights)\n",
    "#         gradient = (y - estimated).dot(x)\n",
    "#         self.weights += (self.l_r)*gradient\n",
    "#         self.step += 1\n",
    "    \n",
    "#     def predict(self, x):\n",
    "#         return x.dot(self.weights)\n",
    "\n",
    "    \n",
    "def init_models(env, featurizer, scaler, n_actions=None, l_r='invscaling', eta=0.01):\n",
    "    models = []\n",
    "    if n_actions==None:\n",
    "        n_actions = env.action_space.n\n",
    "    \n",
    "    for i in range(n_actions):\n",
    "        model = SGDRegressor(learning_rate=l_r, eta0=eta)\n",
    "        state_scaled = scaler.transform([env.reset()])\n",
    "        state_feature = featurizer.transform(state_scaled)\n",
    "        model.partial_fit(state_feature, [0])\n",
    "        models.append(model)\n",
    "    return models    \n",
    "    \n",
    "# def init_models(env, n_weights, featurizer, scaler, n_actions=None, l_r=0.01):\n",
    "#     models = []\n",
    "#     if n_actions==None:\n",
    "#         n_actions = env.action_space.n\n",
    "    \n",
    "#     for i in range(n_actions):\n",
    "#         model = sgd_regressor(n_weights=n_weights, l_r=l_r)\n",
    "#         state_scaled = scaler.transform([env.reset()])\n",
    "#         state_feature = featurizer.transform(state_scaled)\n",
    "#         models.append(model)\n",
    "#     return models\n",
    "\n",
    "def predict(state, featurizer, scaler, models):\n",
    "    state_scaled = scaler.transform([state])\n",
    "    state_feature = featurizer.transform(state_scaled)\n",
    "    #assert(len(state_feature.shape) == 2)\n",
    "    predictions = np.array([m.predict(state_feature)[0] for m in models])\n",
    "    return predictions\n",
    "\n",
    "def update(state, idx_a, g, featurizer, scaler, models):\n",
    "    state_scaled = scaler.transform([state])\n",
    "    state_feature = featurizer.transform(state_scaled)\n",
    "    #assert(len(state_feature.shape) == 2)\n",
    "    models[idx_a].partial_fit(state_feature, [g])\n",
    "    \n",
    "def sample_action(env, state, featurizer, scaler, models, eps, actions=None):\n",
    "    if sum(actions == None) != 0:\n",
    "        actions = np.array(list(range(0,env.action_space.n)))\n",
    "    if np.random.random() < eps:\n",
    "        idx = np.random.choice(len(actions), size=1)[0]\n",
    "        return [actions[idx], idx]\n",
    "    else:\n",
    "        predictions = predict(state, featurizer, scaler, models)\n",
    "        return [actions[np.argmax(predictions)], np.argmax(predictions)]"
   ]
  },
  {
   "cell_type": "code",
   "execution_count": 377,
   "metadata": {
    "ExecuteTime": {
     "end_time": "2020-04-11T17:21:32.212704Z",
     "start_time": "2020-04-11T17:21:32.170631Z"
    }
   },
   "outputs": [],
   "source": [
    "def play_game(env, models, featurizer, scaler, eps, gamma, steps=5, n_actions=None, actions=None,\n",
    "              updt=True):\n",
    "    obs = env.reset()\n",
    "    done = False\n",
    "    rewards = []\n",
    "    iters = 0\n",
    "    states = []\n",
    "    idx_actions = []\n",
    "    total_reward = 0\n",
    "    \n",
    "    gammas = np.repeat(gamma, steps)**np.arange(steps)\n",
    "    #print(gammas)\n",
    "    while not done:\n",
    "        ac, idx_ac = sample_action(env=env, state=obs, featurizer=featurizer, scaler=scaler,\n",
    "                                   models=models, eps=eps, actions=actions)\n",
    "        states.append(obs)\n",
    "        idx_actions.append(idx_ac)\n",
    "        \n",
    "        pre_obs = obs.copy()\n",
    "        obs, rew, done, _ = my_env.step(action=ac)\n",
    "        \n",
    "        rewards.append(rew)\n",
    "        \n",
    "        if updt:\n",
    "            if len(rewards) >= steps:\n",
    "                rew_accumulated = gammas.dot(rewards[-steps:])\n",
    "                g = rew_accumulated + (gamma**steps)*(np.max(predict(state=obs, featurizer=featurizer,\n",
    "                                                             scaler=scaler, models=models)))\n",
    "                update(state=states[-steps], idx_a=idx_actions[-steps], g=g, featurizer=featurizer,\n",
    "                       scaler=scaler, models=models)\n",
    "        total_reward += rew\n",
    "        iters += 1\n",
    "    \n",
    "    if updt and (steps > 1):\n",
    "        rewards = rewards[-steps+1:]\n",
    "        idx_actions = idx_actions[-steps+1:]\n",
    "        states = states[-steps+1:]\n",
    "        if iters <= 199:\n",
    "            #rewards[-1] = 1\n",
    "            while len(rewards) > 0:\n",
    "                rew_accumulated = gammas[:len(rewards)].dot(rewards)\n",
    "                g = rew_accumulated\n",
    "                update(state=states[0], idx_a=idx_actions[0], g=g, featurizer=featurizer, scaler=scaler,\n",
    "                       models=models)\n",
    "                rewards.pop(0)\n",
    "                idx_actions.pop(0)\n",
    "                states.pop(0)\n",
    "        else:\n",
    "            while len(rewards) > 0:\n",
    "                rew_accumulated = gammas.dot(rewards + [-1000]*(steps - len(rewards)))\n",
    "                g = rew_accumulated\n",
    "                update(state=states[0], idx_a=idx_actions[0], g=g, featurizer=featurizer, scaler=scaler,\n",
    "                       models=models)\n",
    "                rewards.pop(0)\n",
    "                idx_actions.pop(0)\n",
    "                states.pop(0)\n",
    "    \n",
    "    return total_reward"
   ]
  },
  {
   "cell_type": "markdown",
   "metadata": {},
   "source": [
    "#### Iterations and Learning\n",
    "\n",
    "This section implements our learning algorithm and check its results."
   ]
  },
  {
   "cell_type": "code",
   "execution_count": 385,
   "metadata": {
    "ExecuteTime": {
     "end_time": "2020-04-11T17:40:16.851693Z",
     "start_time": "2020-04-11T17:38:52.809067Z"
    }
   },
   "outputs": [
    {
     "name": "stdout",
     "output_type": "stream",
     "text": [
      "GENERATED DATA WITH SHAPE (50000, 2)\n",
      "READY TO LEARN---\n",
      "100 ITERATION - -157.51 100-MOVING AVG REWARD\n",
      "200 ITERATION - -121.98 100-MOVING AVG REWARD\n"
     ]
    }
   ],
   "source": [
    "#ITERATE AND LEARN\n",
    "comparision_avg_reward = -109\n",
    "\n",
    "total_rewards = []\n",
    "l_r = 'constant'\n",
    "eta = 0.0005\n",
    "\n",
    "#GENERATE SAMPLES\n",
    "iterations = 200\n",
    "size = 50000\n",
    "sample = sampler_observations(env=my_env, sample_size=size)\n",
    "actions = np.array([0,2])\n",
    "printer = 100\n",
    "\n",
    "sample_data = sample['SCALED_SAMPLE']\n",
    "scaler = sample['SCALER']\n",
    "featurization = rbf_featurizer(data=sample_data, gammas=[0.5, 0.4, 0.3, 0.2, 0.1, 0.05],\n",
    "                               num_components=75)\n",
    "featurizer = featurization['FEATURIZER']\n",
    "n_weights = featurization['TRANSFORM_FEATURES'].shape[1]\n",
    "models = init_models(env=my_env, featurizer=featurizer, scaler=scaler, l_r=l_r, n_actions=len(actions),\n",
    "                     eta=eta)\n",
    "\n",
    "\n",
    "'''\n",
    "ITERATE AND LEARN USING RBF NN'S\n",
    "'''\n",
    "print('READY TO LEARN---')\n",
    "for i in range(iterations):\n",
    "    eps = 0.01*(0.9**(i+1))\n",
    "    gamma = 0.95\n",
    "    steps = 3\n",
    "    total_reward = play_game(env=my_env, models=models, featurizer=featurizer, scaler=scaler,\n",
    "                             eps=eps, gamma=gamma, n_actions=len(actions), actions=actions, steps=steps)\n",
    "    total_rewards.append(total_reward)\n",
    "    \n",
    "    if (i+1) % printer == 0:\n",
    "        print(i+1, 'ITERATION -', np.mean(total_rewards[i-(printer-1):i+1]),\n",
    "              str(printer) + '-MOVING AVG REWARD')\n",
    "        if np.mean(total_rewards[i-(printer-1):i+1]) > (comparision_avg_reward):\n",
    "            break"
   ]
  },
  {
   "cell_type": "code",
   "execution_count": 386,
   "metadata": {
    "ExecuteTime": {
     "end_time": "2020-04-11T17:40:17.040701Z",
     "start_time": "2020-04-11T17:40:16.853596Z"
    }
   },
   "outputs": [
    {
     "data": {
      "image/png": "[encoded data removed]",
      "text/plain": [
       "<Figure size 432x288 with 1 Axes>"
      ]
     },
     "metadata": {
      "needs_background": "light"
     },
     "output_type": "display_data"
    }
   ],
   "source": [
    "plot_running_avg(np.array(total_rewards))"
   ]
  },
  {
   "cell_type": "code",
   "execution_count": 387,
   "metadata": {
    "ExecuteTime": {
     "end_time": "2020-04-11T18:11:20.222933Z",
     "start_time": "2020-04-11T18:11:08.464619Z"
    }
   },
   "outputs": [
    {
     "name": "stdout",
     "output_type": "stream",
     "text": [
      "READY TO CHECK---\n",
      "ITERATION 25\n",
      "ITERATION 50\n",
      "ITERATION 75\n",
      "ITERATION 100\n",
      "RESULTS---\n",
      "AVERAGE OF REWARD: -115.64\n",
      "STD OF REWARD: 12.48\n",
      "MINIMUM OF REWARD: -197.0\n",
      "MAXIMUM OF REWARD: -111.0\n"
     ]
    }
   ],
   "source": [
    "#ITERATE AND CHECK\n",
    "total_rewards = []\n",
    "printer = 25\n",
    "eps = -1\n",
    "\n",
    "#GENERATE SAMPLES\n",
    "iterations = 100\n",
    "'''\n",
    "ITERATE AND CHECK USING RBF NN'S\n",
    "'''\n",
    "print('READY TO CHECK---')\n",
    "for i in range(iterations):\n",
    "    total_reward = play_game(env=my_env, models=models, featurizer=featurizer, scaler=scaler,\n",
    "                             eps=eps, gamma=gamma, n_actions=len(actions), actions=actions, updt=False)\n",
    "    total_rewards.append(total_reward)\n",
    "    \n",
    "    if (i+1) % printer == 0:\n",
    "        print('ITERATION', i+1)\n",
    "\n",
    "print('RESULTS---')\n",
    "print('AVERAGE OF REWARD:', np.round(np.mean(total_rewards), 2))\n",
    "print('STD OF REWARD:', np.round(np.std(total_rewards), 2))\n",
    "print('MINIMUM OF REWARD:', np.round(np.min(total_rewards), 2))\n",
    "print('MAXIMUM OF REWARD:', np.round(np.max(total_rewards), 2))"
   ]
  },
  {
   "cell_type": "code",
   "execution_count": null,
   "metadata": {},
   "outputs": [],
   "source": []
  }
 ],
 "metadata": {
  "kernelspec": {
   "display_name": "Python 3",
   "language": "python",
   "name": "python3"
  },
  "toc": {
   "base_numbering": 1,
   "nav_menu": {},
   "number_sections": true,
   "sideBar": true,
   "skip_h1_title": true,
   "title_cell": "Table of Contents",
   "title_sidebar": "Contents",
   "toc_cell": true,
   "toc_position": {
    "height": "calc(100% - 180px)",
    "left": "10px",
    "top": "150px",
    "width": "273.641px"
   },
   "toc_section_display": true,
   "toc_window_display": true
  }
 },
 "nbformat": 4,
 "nbformat_minor": 4
}
